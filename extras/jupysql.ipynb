{
 "cells": [
  {
   "cell_type": "markdown",
   "id": "f7f5e495-a078-4dcc-ba72-a73eea081874",
   "metadata": {},
   "source": [
    "## null: SQL from Jupyter"
   ]
  },
  {
   "cell_type": "markdown",
   "id": "de92efa5-ec1f-4f49-a880-231e31754ad3",
   "metadata": {},
   "source": [
    "$ pip install jupysql"
   ]
  },
  {
   "cell_type": "code",
   "execution_count": 1,
   "id": "b7d0da36-216e-40e9-ac2f-a2c0529478c4",
   "metadata": {},
   "outputs": [],
   "source": [
    "%load_ext sql"
   ]
  },
  {
   "cell_type": "code",
   "execution_count": 2,
   "id": "320740b8-8beb-4d8a-911e-0ff8988076dc",
   "metadata": {},
   "outputs": [
    {
     "data": {
      "text/html": [
       "<span style=\"None\">Connecting to &#x27;sqlite:///data/penguins.db&#x27;</span>"
      ],
      "text/plain": [
       "Connecting to 'sqlite:///data/penguins.db'"
      ]
     },
     "metadata": {},
     "output_type": "display_data"
    }
   ],
   "source": [
    "%sql sqlite:///data/penguins.db"
   ]
  },
  {
   "cell_type": "code",
   "execution_count": 3,
   "id": "22200343-4bd9-44ce-86fa-cf708e7ebe0c",
   "metadata": {},
   "outputs": [
    {
     "data": {
      "text/html": [
       "<span style=\"None\">Running query in &#x27;sqlite:///data/penguins.db&#x27;</span>"
      ],
      "text/plain": [
       "Running query in 'sqlite:///data/penguins.db'"
      ]
     },
     "metadata": {},
     "output_type": "display_data"
    },
    {
     "data": {
      "text/html": [
       "<table>\n",
       "    <thead>\n",
       "        <tr>\n",
       "            <th>species</th>\n",
       "            <th>num</th>\n",
       "        </tr>\n",
       "    </thead>\n",
       "    <tbody>\n",
       "        <tr>\n",
       "            <td>Adelie</td>\n",
       "            <td>152</td>\n",
       "        </tr>\n",
       "        <tr>\n",
       "            <td>Chinstrap</td>\n",
       "            <td>68</td>\n",
       "        </tr>\n",
       "        <tr>\n",
       "            <td>Gentoo</td>\n",
       "            <td>124</td>\n",
       "        </tr>\n",
       "    </tbody>\n",
       "</table>"
      ],
      "text/plain": [
       "+-----------+-----+\n",
       "|  species  | num |\n",
       "+-----------+-----+\n",
       "|   Adelie  | 152 |\n",
       "| Chinstrap |  68 |\n",
       "|   Gentoo  | 124 |\n",
       "+-----------+-----+"
      ]
     },
     "execution_count": 3,
     "metadata": {},
     "output_type": "execute_result"
    }
   ],
   "source": [
    "%%sql\n",
    "select species, count(*) as num\n",
    "from penguins\n",
    "group by species;"
   ]
  },
  {
   "cell_type": "code",
   "execution_count": null,
   "id": "eb3588cd-09e7-4960-9ab4-14c01e7df953",
   "metadata": {},
   "outputs": [],
   "source": []
  }
 ],
 "metadata": {
  "kernelspec": {
   "display_name": "Python 3 (ipykernel)",
   "language": "python",
   "name": "python3"
  },
  "language_info": {
   "codemirror_mode": {
    "name": "ipython",
    "version": 3
   },
   "file_extension": ".py",
   "mimetype": "text/x-python",
   "name": "python",
   "nbconvert_exporter": "python",
   "pygments_lexer": "ipython3",
   "version": "3.12.1"
  }
 },
 "nbformat": 4,
 "nbformat_minor": 5
}
